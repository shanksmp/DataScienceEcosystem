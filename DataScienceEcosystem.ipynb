{
 "cells": [
  {
   "cell_type": "markdown",
   "id": "bd95b72c-9b1f-4360-8aab-2d4af5740f48",
   "metadata": {},
   "source": [
    "# Data Science Tools and Ecosystem"
   ]
  },
  {
   "cell_type": "markdown",
   "id": "6f72d345-3cb4-423a-8db1-479315e9d7af",
   "metadata": {},
   "source": [
    "In this notebook, Data Science Tools and Ecosystem are summarized.\n"
   ]
  },
  {
   "cell_type": "markdown",
   "id": "aeefc6fd-0f8a-4b36-8fbd-05be31485980",
   "metadata": {},
   "source": [
    "**Objectives:**\n",
    "\n",
    "- List popular languages for Data Science\n",
    "- Identify commonly used libraries in Data Science\n",
    "- Introduce common open-source development tools for Data Science\n",
    "- Demonstrate basic arithmetic operations in Python\n",
    "- Convert time units using Python expressions\n"
   ]
  },
  {
   "cell_type": "markdown",
   "id": "c0181e78-da63-4c24-81d3-e0fdb74ea043",
   "metadata": {},
   "source": [
    "Some of the popular languages that Data Scientists use are:\n",
    "\n",
    "1. Python\n",
    "2. R\n",
    "3. SQL\n",
    "4. Julia\n",
    "5. Scala\n"
   ]
  },
  {
   "cell_type": "markdown",
   "id": "842b0776-98ab-49d5-8828-293b20aee7ab",
   "metadata": {},
   "source": [
    "Some of the commonly used libraries used by Data Scientists include:\n",
    "\n",
    "1. Pandas\n",
    "2. NumPy\n",
    "3. Matplotlib\n",
    "4. Scikit-learn\n",
    "5. TensorFlow\n",
    "6. PyTorch\n"
   ]
  },
  {
   "cell_type": "markdown",
   "id": "c9d75de2-f3fd-4319-be7a-987540b40e6b",
   "metadata": {},
   "source": [
    "| Data Science Tools |\n",
    "|--------------------|\n",
    "| Jupyter Notebook  |\n",
    "| RStudio           |\n",
    "| Apache Zeppelin   |\n"
   ]
  },
  {
   "cell_type": "markdown",
   "id": "9d8caf2f-94b9-4319-8b87-77d35f35db99",
   "metadata": {},
   "source": [
    "### Below are a few examples of evaluating arithmetic expressions in Python.\n",
    "\n",
    "- **Addition:** `3 + 5 = 8`\n",
    "- **Subtraction:** `10 - 4 = 6`\n",
    "- **Multiplication:** `6 * 7 = 42`\n",
    "- **Division:** `20 / 5 = 4.0`\n",
    "- **Exponentiation:** `2 ** 3 = 8`\n",
    "- **Modulus (Remainder):** `10 % 3 = 1`\n",
    "- **Floor Division:** `10 // 3 = 3`\n"
   ]
  },
  {
   "cell_type": "code",
   "execution_count": 5,
   "id": "9d9b0507-0b1b-4cb5-891d-f2782fcdf1ec",
   "metadata": {},
   "outputs": [
    {
     "name": "stdout",
     "output_type": "stream",
     "text": [
      "17\n"
     ]
    }
   ],
   "source": [
    "# This is a simple arithmetic expression to multiply then add integers\n",
    "result = (3 * 4) + 5\n",
    "print(result)  \n"
   ]
  },
  {
   "cell_type": "code",
   "execution_count": 6,
   "id": "05c7b27e-a900-4a69-b919-c2279f1a159a",
   "metadata": {},
   "outputs": [
    {
     "name": "stdout",
     "output_type": "stream",
     "text": [
      "3.3333333333333335\n"
     ]
    }
   ],
   "source": [
    "# This will convert 200 minutes to hours by dividing by 60\n",
    "hours = 200 / 60\n",
    "print(hours)  # Expected output: 3.3333 (or 3 hours and 20 minutes)\n"
   ]
  },
  {
   "cell_type": "markdown",
   "id": "1052e67f-0f79-44c1-a800-4c7deb0bee75",
   "metadata": {},
   "source": [
    "## Author\n",
    "\n",
    "Shashank Mechana Palangappa|\n"
   ]
  },
  {
   "cell_type": "code",
   "execution_count": null,
   "id": "e3eb71bc-9515-4970-9421-79ff5428ef73",
   "metadata": {},
   "outputs": [],
   "source": []
  }
 ],
 "metadata": {
  "kernelspec": {
   "display_name": "Python 3 (ipykernel)",
   "language": "python",
   "name": "python3"
  },
  "language_info": {
   "codemirror_mode": {
    "name": "ipython",
    "version": 3
   },
   "file_extension": ".py",
   "mimetype": "text/x-python",
   "name": "python",
   "nbconvert_exporter": "python",
   "pygments_lexer": "ipython3",
   "version": "3.12.8"
  }
 },
 "nbformat": 4,
 "nbformat_minor": 5
}
